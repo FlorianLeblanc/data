{
 "metadata": {
  "name": "",
  "signature": "sha256:440d68cde8fe715077a208e9e8b8b2174287a4778fe9db48ccd4bfee743aadd6"
 },
 "nbformat": 3,
 "nbformat_minor": 0,
 "worksheets": [
  {
   "cells": [
    {
     "cell_type": "code",
     "collapsed": false,
     "input": [
      "from bokeh.document import Document\n",
      "from bokeh.plotting import figure, output_file, output_notebook, show, brewer, circle, rect, text\n",
      "from bokeh.widgets import HBox, VBox\n",
      "from bokeh.properties import Range\n",
      "import pandas as pd\n",
      "import numpy as np"
     ],
     "language": "python",
     "metadata": {},
     "outputs": [],
     "prompt_number": 17
    },
    {
     "cell_type": "code",
     "collapsed": false,
     "input": [
      "#output_notebook()\n",
      "output_file(\"plot_legend.html\")"
     ],
     "language": "python",
     "metadata": {},
     "outputs": [
      {
       "output_type": "stream",
       "stream": "stdout",
       "text": [
        "Session output file 'plot_legend.html' already exists, will be overwritten.\n"
       ]
      }
     ],
     "prompt_number": 18
    },
    {
     "cell_type": "code",
     "collapsed": false,
     "input": [
      "# Get data\n",
      "df = pd.read_csv('tcf_per_year.csv', header=[0,1], index_col=0)\n",
      "tight = df['Including Tight']\n",
      "no_tight = df['No Tight']\n",
      "overview = df['Overview']"
     ],
     "language": "python",
     "metadata": {},
     "outputs": [],
     "prompt_number": 19
    },
    {
     "cell_type": "code",
     "collapsed": false,
     "input": [
      "# Set up plot\n",
      "## Beacon accepts a max of 640px x 390px, so we need to keep below that. \n",
      "# 600 width, seems to work well to get full plot width in there.\n",
      "\n",
      "p = figure(y_range=[0, 14], toolbar_location=None, plot_width=440, plot_height=340, min_border=10)\n",
      "\n",
      "\n",
      "# Set up the colors\n",
      "colors = brewer[\"Spectral\"][11]\n",
      "colors.append(\"#aaaaaa\")\n",
      "colors.append(\"#bbbbbb\")\n",
      "\n",
      "\n",
      "## Add lines\n",
      "\n",
      "# Overview\n",
      "for i in range(len(overview.columns)):\n",
      "    source = overview.columns[i]\n",
      "    \n",
      "    if source == 'Exponential Fit':\n",
      "        p.line(overview.index, overview[source], line_color='#000000', legend=source, line_dash='solid', line_width=2)\n",
      "    elif source == 'AEO2000 (graph) + later history':\n",
      "        p.line(overview.index, overview[source], line_color='#999999', legend=source, line_dash='solid', line_width=2)\n",
      "    elif source == 'Actual historical best guess':\n",
      "        p.line(overview.index, overview[source], line_color='#333333', legend=source, line_dash='solid', line_width=2)\n",
      "\n",
      "# Including tight\n",
      "for i in range(len(tight.columns)):\n",
      "    source = tight.columns[i]\n",
      "    p.line(tight.index, tight[source], line_color=colors[i], line_width=4)\n",
      "    \n",
      "# Not including tight\n",
      "for i in range(len(no_tight.columns)):\n",
      "    source = no_tight.columns[i]\n",
      "    p.line(no_tight.index, no_tight[source], line_color=colors[i], line_dash='dashed', line_width=4)\n",
      "        \n",
      "\n",
      "\n",
      "# Axis values\n",
      "\n",
      "\n",
      "# Labeling\n",
      "font_size = \"12px\"\n",
      "\n",
      "#p.title = \"L48 OnShore Nonassoc Conventional\"\n",
      "p.title = None\n",
      "p.title_text_font_size = font_size\n",
      "p.outline_line_color = None\n",
      "\n",
      "yaxis = p.yaxis[0]\n",
      "yaxis.axis_label = \"tcf/year\"\n",
      "yaxis.axis_label_text_font_size = font_size\n",
      "yaxis.minor_tick_line_color = None\n",
      "legend = p.legend\n",
      "legend.label_text_font_size = font_size\n",
      "legend.orientation = \"bottom_left\"\n",
      "legend.name = \"Source\"\n",
      "\n",
      "p.tools"
     ],
     "language": "python",
     "metadata": {},
     "outputs": [
      {
       "metadata": {},
       "output_type": "pyout",
       "prompt_number": 20,
       "text": [
        "[<bokeh.models.tools.PanTool at 0x7f7faa30c1d0>,\n",
        " <bokeh.models.tools.WheelZoomTool at 0x7f7faa30c210>,\n",
        " <bokeh.models.tools.BoxZoomTool at 0x7f7faa30c250>,\n",
        " <bokeh.models.tools.PreviewSaveTool at 0x7f7faa30c290>,\n",
        " <bokeh.models.tools.ResizeTool at 0x7f7faa30c2d0>,\n",
        " <bokeh.models.tools.ResetTool at 0x7f7f7d559d90>]"
       ]
      }
     ],
     "prompt_number": 20
    },
    {
     "cell_type": "code",
     "collapsed": false,
     "input": [
      "# Draw the legend - TIGHT\n",
      "l_tight = figure(toolbar_location=None, plot_width=160, plot_height=340, tools='', title=None, min_border=0, x_range=[0,8])\n",
      "\n",
      "l_tight_xs = np.full(len(tight.columns),1)\n",
      "l_tight_ys = np.linspace(len(tight.columns),0,len(tight.columns))\n",
      "\n",
      "l_tight.xgrid[0].grid_line_color = None\n",
      "l_tight.ygrid[0].grid_line_color = None\n",
      "\n",
      "l_tight_xaxis = l_tight.xaxis[0]\n",
      "l_tight_yaxis = l_tight.yaxis[0]\n",
      "\n",
      "l_tight_xaxis.axis_line_color = None\n",
      "l_tight_xaxis.major_label_text_color = None\n",
      "l_tight_xaxis.major_tick_line_color = None\n",
      "l_tight_xaxis.minor_tick_line_color = None\n",
      "l_tight_yaxis.axis_line_color = None\n",
      "l_tight_yaxis.major_label_text_color = None\n",
      "l_tight_yaxis.major_tick_line_color = None\n",
      "l_tight_yaxis.minor_tick_line_color = None\n",
      "\n",
      "l_tight.outline_line_color = None\n",
      "\n",
      "\n",
      "l_tight.rect(x=l_tight_xs-.8, y=l_tight_ys, width=1, height=.1, color=colors)\n",
      "l_tight.text(x=l_tight_xs, y=l_tight_ys-.25, text_font_size=\"8pt\", text=tight.columns, angle=0)\n",
      "\n",
      "# Add the \"no tight\" items\n",
      "\n",
      "l_no_tight_xs = np.full(len(no_tight.columns),1)\n",
      "\n",
      "l_tight.rect(x=l_no_tight_xs+3.8, y=l_tight_ys, width=.2, height=.1, color=colors)\n",
      "l_tight.rect(x=l_no_tight_xs+3.4, y=l_tight_ys, width=.2, height=.1, color=colors)\n",
      "l_tight.text(x=l_no_tight_xs+4.2, y=l_tight_ys-.25, text_font_size=\"8pt\", text=no_tight.columns, angle=0)"
     ],
     "language": "python",
     "metadata": {},
     "outputs": [
      {
       "metadata": {},
       "output_type": "pyout",
       "prompt_number": 21,
       "text": [
        "<bokeh.plotting.Figure at 0x7f7faa31a850>"
       ]
      }
     ],
     "prompt_number": 21
    },
    {
     "cell_type": "code",
     "collapsed": false,
     "input": [
      "layout = HBox()\n",
      "layout.children = [l_tight, p]\n",
      "show(layout)"
     ],
     "language": "python",
     "metadata": {},
     "outputs": [],
     "prompt_number": 22
    },
    {
     "cell_type": "code",
     "collapsed": false,
     "input": [],
     "language": "python",
     "metadata": {},
     "outputs": [],
     "prompt_number": 16
    }
   ],
   "metadata": {}
  }
 ]
}