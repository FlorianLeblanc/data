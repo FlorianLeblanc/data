{
 "metadata": {
  "name": "",
  "signature": "sha256:25cbeefbbacc3c081d36b2fa9ba98a4b1699d11e78b42feed10f30fa3c166407"
 },
 "nbformat": 3,
 "nbformat_minor": 0,
 "worksheets": [
  {
   "cells": [
    {
     "cell_type": "code",
     "collapsed": false,
     "input": [
      "import numpy as np\n",
      "import pandas as pd\n",
      "from bokeh.objects import HoverTool\n",
      "from bokeh.plotting import *"
     ],
     "language": "python",
     "metadata": {},
     "outputs": [],
     "prompt_number": 19
    },
    {
     "cell_type": "code",
     "collapsed": false,
     "input": [
      "!head data.csv"
     ],
     "language": "python",
     "metadata": {},
     "outputs": [
      {
       "output_type": "stream",
       "stream": "stdout",
       "text": [
        ",US dry nat gas MHI best guess (Bcf/d),Lower 48 states onshore conventional,Lower 48 states offshore,Tight gas,Alaska,Coalbed methane ,Shale gas\r\n",
        "1900,0.34,0.34,,,,,\r\n",
        "1901,0.48,0.48,,,,,\r\n",
        "1902,0.54,0.54,,,,,\r\n",
        "1903,0.63,0.63,,,,,\r\n",
        "1904,0.68,0.68,,,,,\r\n",
        "1905,0.85,0.85,,,,,\r\n",
        "1906,1.03,1.03,,,,,\r\n",
        "1907,1.08,1.08,,,,,\r\n",
        "1908,1.06,1.06,,,,,\r\n"
       ]
      }
     ],
     "prompt_number": 20
    },
    {
     "cell_type": "code",
     "collapsed": false,
     "input": [
      "ngas = pd.read_csv('data.csv', index_col=0)\n",
      "ngas.drop('US dry nat gas MHI best guess (Bcf/d)', axis=1, inplace=True)\n",
      "ngas = ngas.fillna(0)"
     ],
     "language": "python",
     "metadata": {},
     "outputs": [],
     "prompt_number": 21
    },
    {
     "cell_type": "code",
     "collapsed": false,
     "input": [
      "ngas.head()"
     ],
     "language": "python",
     "metadata": {},
     "outputs": [
      {
       "html": [
        "<div style=\"max-height:1000px;max-width:1500px;overflow:auto;\">\n",
        "<table border=\"1\" class=\"dataframe\">\n",
        "  <thead>\n",
        "    <tr style=\"text-align: right;\">\n",
        "      <th></th>\n",
        "      <th>Lower 48 states onshore conventional</th>\n",
        "      <th>Lower 48 states offshore</th>\n",
        "      <th>Tight gas</th>\n",
        "      <th>Alaska</th>\n",
        "      <th>Coalbed methane </th>\n",
        "      <th>Shale gas</th>\n",
        "    </tr>\n",
        "  </thead>\n",
        "  <tbody>\n",
        "    <tr>\n",
        "      <th>1900</th>\n",
        "      <td> 0.34</td>\n",
        "      <td> 0</td>\n",
        "      <td> 0</td>\n",
        "      <td> 0</td>\n",
        "      <td> 0</td>\n",
        "      <td> 0</td>\n",
        "    </tr>\n",
        "    <tr>\n",
        "      <th>1901</th>\n",
        "      <td> 0.48</td>\n",
        "      <td> 0</td>\n",
        "      <td> 0</td>\n",
        "      <td> 0</td>\n",
        "      <td> 0</td>\n",
        "      <td> 0</td>\n",
        "    </tr>\n",
        "    <tr>\n",
        "      <th>1902</th>\n",
        "      <td> 0.54</td>\n",
        "      <td> 0</td>\n",
        "      <td> 0</td>\n",
        "      <td> 0</td>\n",
        "      <td> 0</td>\n",
        "      <td> 0</td>\n",
        "    </tr>\n",
        "    <tr>\n",
        "      <th>1903</th>\n",
        "      <td> 0.63</td>\n",
        "      <td> 0</td>\n",
        "      <td> 0</td>\n",
        "      <td> 0</td>\n",
        "      <td> 0</td>\n",
        "      <td> 0</td>\n",
        "    </tr>\n",
        "    <tr>\n",
        "      <th>1904</th>\n",
        "      <td> 0.68</td>\n",
        "      <td> 0</td>\n",
        "      <td> 0</td>\n",
        "      <td> 0</td>\n",
        "      <td> 0</td>\n",
        "      <td> 0</td>\n",
        "    </tr>\n",
        "  </tbody>\n",
        "</table>\n",
        "</div>"
       ],
       "metadata": {},
       "output_type": "pyout",
       "prompt_number": 22,
       "text": [
        "      Lower 48 states onshore conventional  Lower 48 states offshore  \\\n",
        "1900                                  0.34                         0   \n",
        "1901                                  0.48                         0   \n",
        "1902                                  0.54                         0   \n",
        "1903                                  0.63                         0   \n",
        "1904                                  0.68                         0   \n",
        "\n",
        "      Tight gas  Alaska  Coalbed methane   Shale gas  \n",
        "1900          0       0                 0          0  \n",
        "1901          0       0                 0          0  \n",
        "1902          0       0                 0          0  \n",
        "1903          0       0                 0          0  \n",
        "1904          0       0                 0          0  "
       ]
      }
     ],
     "prompt_number": 22
    },
    {
     "cell_type": "code",
     "collapsed": false,
     "input": [
      "# output_notebook()\n",
      "output_file(\"graph.html\", title=\"US Natural Gas Production: 1900 - 2013\")"
     ],
     "language": "python",
     "metadata": {},
     "outputs": [
      {
       "output_type": "stream",
       "stream": "stdout",
       "text": [
        "Session output file 'graph.html' already exists, will be overwritten.\n"
       ]
      }
     ],
     "prompt_number": 36
    },
    {
     "cell_type": "code",
     "collapsed": false,
     "input": [
      "from bokeh.objects import *\n",
      "\n",
      "# Define some categories\n",
      "x_points = list(ngas.index)\n",
      "stack_items = list(ngas.columns)\n",
      "\n",
      "\n",
      "# Setup a figure\n",
      "figure(title=\"U.S. natural gas production: 1900-2013\", plot_width=600)\n",
      "hold()\n",
      "\n",
      "ys = []\n",
      "last = np.zeros(len(x_points))\n",
      "for index, item in enumerate(stack_items):\n",
      "    next = last + ngas[item]\n",
      "    ys.append(np.hstack((last[::-1], next)))\n",
      "    last = next\n",
      "\n",
      "# The x coordinates for each polygon are simply the series concatenated\n",
      "xs = [np.hstack((x_points[::-1], x_points))] * len(ys)\n",
      "\n",
      "# Pick out a color palette\n",
      "colors = brewer[\"Spectral\"][len(ys)][::-1]\n",
      "    \n",
      "patches(xs, ys,\n",
      "        xrange=x_points,\n",
      "        color=colors, line_color=None,\n",
      "        tools=\"save\")\n",
      "    \n",
      "yaxis().axis_label = \"Billion cubic feet per day (Bcf/day)\"\n",
      "\n",
      "legend_xs = np.full(len(ys),1900)\n",
      "legend_ys = np.linspace(68,48,6)\n",
      "\n",
      "\n",
      "rect(x=[1926], y=[52.5], width=62, height=35, line_color=\"gray\", fill_color=\"white\")\n",
      "circle(x=legend_xs, y=legend_ys, radius=1, color=colors)\n",
      "text(x=legend_xs+2, y=legend_ys-1, text_font_size=\"8pt\", text=stack_items, angle=0)\n",
      "text(x=[1900], y=[43], text_font_size=\"8pt\", text=\"By Mason Inman, The Frack Lab.\", angle=0)\n",
      "text(x=[1900], y=[41], text_font_size=\"8pt\", text=\"Estimated dry natural gas production.\", angle=0)\n",
      "text(x=[1900], y=[39], text_font_size=\"8pt\", text=\"Creative Commons Attribution 4.0\", angle=0)\n",
      "text(x=[1900], y=[37], text_font_size=\"8pt\", text=\"International License.\", angle=0)\n",
      "\n",
      "save()"
     ],
     "language": "python",
     "metadata": {},
     "outputs": [],
     "prompt_number": 37
    },
    {
     "cell_type": "code",
     "collapsed": false,
     "input": [],
     "language": "python",
     "metadata": {},
     "outputs": [],
     "prompt_number": 24
    }
   ],
   "metadata": {}
  }
 ]
}