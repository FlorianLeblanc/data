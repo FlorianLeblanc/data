{
 "metadata": {
  "name": "",
  "signature": "sha256:bcac331876134a8c1f0468f4204d25c363f8d285cf5d7a33e439b027e139abc1"
 },
 "nbformat": 3,
 "nbformat_minor": 0,
 "worksheets": [
  {
   "cells": [
    {
     "cell_type": "code",
     "collapsed": false,
     "input": [
      "import numpy as np\n",
      "import scipy\n",
      "import pylab\n",
      "import pymorph\n",
      "import mahotas\n",
      "from scipy import ndimage\n",
      "from PIL import Image\n",
      "from ipythonblocks import show_color, ImageGrid"
     ],
     "language": "python",
     "metadata": {},
     "outputs": [],
     "prompt_number": 4
    },
    {
     "cell_type": "code",
     "collapsed": false,
     "input": [
      "file = \"Tarrant - 6-by-3 sample.png\"\n",
      "tarrant = mahotas.imread(file)\n",
      "tarrant_pil = Image.open(file)"
     ],
     "language": "python",
     "metadata": {},
     "outputs": [],
     "prompt_number": 5
    },
    {
     "cell_type": "code",
     "collapsed": false,
     "input": [
      "pylab.imshow(tarrant)"
     ],
     "language": "python",
     "metadata": {},
     "outputs": [
      {
       "metadata": {},
       "output_type": "pyout",
       "prompt_number": 6,
       "text": [
        "<matplotlib.image.AxesImage at 0x7fef42b40ed0>"
       ]
      },
      {
       "metadata": {},
       "output_type": "display_data",
       "png": "[encoded data removed]",
       "text": [
        "<matplotlib.figure.Figure at 0x7fef49cc67d0>"
       ]
      }
     ],
     "prompt_number": 6
    },
    {
     "cell_type": "code",
     "collapsed": false,
     "input": [
      "sx = ndimage.sobel(tarrant, axis=0, mode='constant')\n",
      "sy = ndimage.sobel(tarrant, axis=1, mode='constant')\n",
      "sob = np.hypot(sx, sy)"
     ],
     "language": "python",
     "metadata": {},
     "outputs": [],
     "prompt_number": 7
    },
    {
     "cell_type": "code",
     "collapsed": false,
     "input": [
      "def print_true_false_counts(row):\n",
      "    true_count = 0\n",
      "    false_count = 0\n",
      "    for colindex, sobvalue in enumerate(row):\n",
      "            # sobvalue\n",
      "            # tarrant_pil.getpixel((colindex, rowindex))\n",
      "            # sum the array and see if it's 0\n",
      "            color_total = sobvalue.sum()\n",
      "            if color_total == 0:\n",
      "                true_count = true_count + 1\n",
      "                if false_count != 0:\n",
      "                    print \"Black = \" + str(false_count)\n",
      "                    false_count = 0\n",
      "            else:\n",
      "                false_count = false_count + 1\n",
      "                if true_count != 0 and true_count > 10:\n",
      "                    print \"White = \" + str(true_count)\n",
      "                    print colindex\n",
      "                    true_count = 0            "
     ],
     "language": "python",
     "metadata": {},
     "outputs": [],
     "prompt_number": 8
    },
    {
     "cell_type": "code",
     "collapsed": false,
     "input": [
      "def get_color_values_for_row(rowindex, row):\n",
      "    color_values = []\n",
      "    true_count = 0\n",
      "    for colindex, sobvalue in enumerate(row):\n",
      "            # sum the array and see if it's 0 \n",
      "            color_total = sobvalue.sum()\n",
      "            if color_total == 0:\n",
      "                true_count = true_count + 1\n",
      "            else:\n",
      "                if true_count != 0 and true_count > 10:\n",
      "                    square_color = tarrant_pil.getpixel((colindex, rowindex))\n",
      "                    color_values.append(square_color)\n",
      "                    true_count = 0   \n",
      "    return color_values"
     ],
     "language": "python",
     "metadata": {},
     "outputs": [],
     "prompt_number": 9
    },
    {
     "cell_type": "code",
     "collapsed": false,
     "input": [
      "pylab.imshow(sob)"
     ],
     "language": "python",
     "metadata": {},
     "outputs": [
      {
       "metadata": {},
       "output_type": "pyout",
       "prompt_number": 10,
       "text": [
        "<matplotlib.image.AxesImage at 0x7fef42a5b910>"
       ]
      },
      {
       "output_type": "stream",
       "stream": "stderr",
       "text": [
        "/home/bird/Dev/.virtualenvs/the-frack-lab_image/lib/python2.7/site-packages/numpy/ma/core.py:3775: RuntimeWarning: overflow encountered in multiply\n",
        "  ndarray.__imul__(self._data, np.where(self._mask, 1, getdata(other)))\n",
        "/home/bird/Dev/.virtualenvs/the-frack-lab_image/lib/python2.7/site-packages/numpy/ma/core.py:932: RuntimeWarning: overflow encountered in multiply\n",
        "  result = self.f(da, db, *args, **kwargs)\n"
       ]
      },
      {
       "metadata": {},
       "output_type": "display_data",
       "png": "[encoded data removed]",
       "text": [
        "<matplotlib.figure.Figure at 0x7fef42bebad0>"
       ]
      }
     ],
     "prompt_number": 10
    },
    {
     "cell_type": "code",
     "collapsed": false,
     "input": [
      "samplerow = sob[150]\n",
      "color_array_test = [get_color_values_for_row(150, samplerow)]"
     ],
     "language": "python",
     "metadata": {},
     "outputs": [],
     "prompt_number": 11
    },
    {
     "cell_type": "code",
     "collapsed": false,
     "input": [
      "grid = ImageGrid(6, 1, fill=(124, 124, 124), block_size=45)\n",
      "for pixel in grid:\n",
      "    pixel.red = color_array_test[pixel.y][pixel.x][0]\n",
      "    pixel.green = color_array_test[pixel.y][pixel.x][1]\n",
      "    pixel.blue = color_array_test[pixel.y][pixel.x][2]\n",
      "grid"
     ],
     "language": "python",
     "metadata": {},
     "outputs": [
      {
       "html": [
        "<style type=\"text/css\">table.blockgrid {border: none;} .blockgrid tr {border: none;} .blockgrid td {padding: 0px;} #blocks093c974b-4255-4bc6-babe-5f83b78972c4 td {border: 1px solid white;}</style><table id=\"blocks093c974b-4255-4bc6-babe-5f83b78972c4\" class=\"blockgrid\"><tbody><tr><td title=\"Index: [0, 0]&#10;Color: (154, 174, 188)\" style=\"width: 45px; height: 45px;background-color: rgb(154, 174, 188);\"></td><td title=\"Index: [1, 0]&#10;Color: (154, 174, 188)\" style=\"width: 45px; height: 45px;background-color: rgb(154, 174, 188);\"></td><td title=\"Index: [2, 0]&#10;Color: (154, 174, 188)\" style=\"width: 45px; height: 45px;background-color: rgb(154, 174, 188);\"></td><td title=\"Index: [3, 0]&#10;Color: (254, 232, 176)\" style=\"width: 45px; height: 45px;background-color: rgb(254, 232, 176);\"></td><td title=\"Index: [4, 0]&#10;Color: (240, 141, 102)\" style=\"width: 45px; height: 45px;background-color: rgb(240, 141, 102);\"></td><td title=\"Index: [5, 0]&#10;Color: (254, 232, 176)\" style=\"width: 45px; height: 45px;background-color: rgb(254, 232, 176);\"></td></tr></tbody></table>"
       ],
       "metadata": {},
       "output_type": "pyout",
       "prompt_number": 12,
       "text": [
        "<ipythonblocks.ipythonblocks.ImageGrid at 0x7fef42a96e90>"
       ]
      }
     ],
     "prompt_number": 12
    },
    {
     "cell_type": "code",
     "collapsed": false,
     "input": [
      "pylab.imshow(sob)\n",
      "np.shape(sob)"
     ],
     "language": "python",
     "metadata": {},
     "outputs": [
      {
       "metadata": {},
       "output_type": "pyout",
       "prompt_number": 13,
       "text": [
        "(167, 336, 4)"
       ]
      },
      {
       "metadata": {},
       "output_type": "display_data",
       "png": "[encoded data removed]",
       "text": [
        "<matplotlib.figure.Figure at 0x7fef42bb5e10>"
       ]
      }
     ],
     "prompt_number": 13
    },
    {
     "cell_type": "code",
     "collapsed": false,
     "input": [
      "sob_t = sob.transpose(1,0,2)"
     ],
     "language": "python",
     "metadata": {},
     "outputs": [],
     "prompt_number": 14
    },
    {
     "cell_type": "code",
     "collapsed": false,
     "input": [
      "np.shape(sob_t)"
     ],
     "language": "python",
     "metadata": {},
     "outputs": [
      {
       "metadata": {},
       "output_type": "pyout",
       "prompt_number": 15,
       "text": [
        "(336, 167, 4)"
       ]
      }
     ],
     "prompt_number": 15
    },
    {
     "cell_type": "code",
     "collapsed": false,
     "input": [
      "pylab.imshow(sob_t)"
     ],
     "language": "python",
     "metadata": {},
     "outputs": [
      {
       "metadata": {},
       "output_type": "pyout",
       "prompt_number": 16,
       "text": [
        "<matplotlib.image.AxesImage at 0x7fef428c6090>"
       ]
      },
      {
       "metadata": {},
       "output_type": "display_data",
       "png": "[encoded data removed]",
       "text": [
        "<matplotlib.figure.Figure at 0x7fef42ab4850>"
       ]
      }
     ],
     "prompt_number": 16
    },
    {
     "cell_type": "code",
     "collapsed": false,
     "input": [
      "# Go through each row and pick a value that will be our row index\n",
      "# Get a value for each row and then sum the most common\n",
      "\n",
      "def get_candidate_row_indexes(row):\n",
      "    row_indexes = []\n",
      "    true_count = 0\n",
      "    for colindex, sobvalue in enumerate(row):\n",
      "            # sum the array and see if it's 0\n",
      "            color_total = sobvalue.sum()\n",
      "            if color_total == 0:\n",
      "                true_count = true_count + 1\n",
      "            else:\n",
      "                if true_count != 0 and true_count > 10:\n",
      "                    row_indexes.append(colindex - 10)\n",
      "                    true_count = 0\n",
      "    return row_indexes\n",
      "\n",
      "candidates = []\n",
      "for column in sob_t:\n",
      "    candidates.append(get_candidate_row_indexes(column))"
     ],
     "language": "python",
     "metadata": {},
     "outputs": [],
     "prompt_number": 17
    },
    {
     "cell_type": "code",
     "collapsed": false,
     "input": [
      "# Source: https://stackoverflow.com/questions/19878250/zero-padding-numpy-array\n",
      "# Build a zero padded array from uneven length lists\n",
      "def apply_to_zeros(lst, dtype=np.int64):\n",
      "    inner_max_len = max(map(len, lst))\n",
      "    result = np.zeros([len(lst), inner_max_len], dtype)\n",
      "    for i, row in enumerate(lst):\n",
      "        for j, val in enumerate(row):\n",
      "            result[i][j] = val\n",
      "    return result\n",
      "\n",
      "candidate_array = apply_to_zeros(candidates)\n",
      "number_of_rows = candidate_array.shape[1]\n",
      "print number_of_rows"
     ],
     "language": "python",
     "metadata": {},
     "outputs": [
      {
       "output_type": "stream",
       "stream": "stdout",
       "text": [
        "3\n"
       ]
      }
     ],
     "prompt_number": 18
    },
    {
     "cell_type": "code",
     "collapsed": false,
     "input": [
      "candidate_array_t = candidate_array.transpose(1,0)"
     ],
     "language": "python",
     "metadata": {},
     "outputs": [],
     "prompt_number": 19
    },
    {
     "cell_type": "code",
     "collapsed": false,
     "input": [
      "rows = []\n",
      "for i in xrange(number_of_rows):\n",
      "    row = np.median(candidate_array_t[i])\n",
      "    rows.append(int(row))\n",
      "print rows"
     ],
     "language": "python",
     "metadata": {},
     "outputs": [
      {
       "output_type": "stream",
       "stream": "stdout",
       "text": [
        "[42, 97, 153]\n"
       ]
      }
     ],
     "prompt_number": 20
    },
    {
     "cell_type": "heading",
     "level": 1,
     "metadata": {},
     "source": [
      "Put it all together"
     ]
    },
    {
     "cell_type": "code",
     "collapsed": false,
     "input": [
      "color_array = []\n",
      "for row in rows:\n",
      "    color_array.append(get_color_values_for_row(row, sob[row]))\n",
      "color_array\n",
      "type(color_array[0][0])"
     ],
     "language": "python",
     "metadata": {},
     "outputs": [
      {
       "metadata": {},
       "output_type": "pyout",
       "prompt_number": 21,
       "text": [
        "tuple"
       ]
      }
     ],
     "prompt_number": 21
    },
    {
     "cell_type": "code",
     "collapsed": false,
     "input": [
      "np_color_array = np.array(color_array)\n",
      "shape = np_color_array.shape\n",
      "print shape"
     ],
     "language": "python",
     "metadata": {},
     "outputs": [
      {
       "output_type": "stream",
       "stream": "stdout",
       "text": [
        "(3, 6, 4)\n"
       ]
      }
     ],
     "prompt_number": 22
    },
    {
     "cell_type": "code",
     "collapsed": false,
     "input": [
      "grid = ImageGrid(6, 3, fill=(124, 124, 124), block_size=45)"
     ],
     "language": "python",
     "metadata": {},
     "outputs": [],
     "prompt_number": 23
    },
    {
     "cell_type": "code",
     "collapsed": false,
     "input": [
      "offset = grid.height - 1\n",
      "for r in range(grid.height):\n",
      "    for c in range(grid.width):\n",
      "        pixel = grid[c, offset-r]\n",
      "        pixel.red = color_array[r][c][0]\n",
      "        pixel.green = color_array[r][c][1]\n",
      "        pixel.blue = color_array[r][c][2]\n",
      "grid"
     ],
     "language": "python",
     "metadata": {},
     "outputs": [
      {
       "html": [
        "<style type=\"text/css\">table.blockgrid {border: none;} .blockgrid tr {border: none;} .blockgrid td {padding: 0px;} #blocks8db3bb4c-6d5f-4041-8437-59931c761fda td {border: 1px solid white;}</style><table id=\"blocks8db3bb4c-6d5f-4041-8437-59931c761fda\" class=\"blockgrid\"><tbody><tr><td title=\"Index: [0, 2]&#10;Color: (254, 232, 176)\" style=\"width: 45px; height: 45px;background-color: rgb(254, 232, 176);\"></td><td title=\"Index: [1, 2]&#10;Color: (240, 141, 102)\" style=\"width: 45px; height: 45px;background-color: rgb(240, 141, 102);\"></td><td title=\"Index: [2, 2]&#10;Color: (212, 49, 46)\" style=\"width: 45px; height: 45px;background-color: rgb(212, 49, 46);\"></td><td title=\"Index: [3, 2]&#10;Color: (228, 97, 72)\" style=\"width: 45px; height: 45px;background-color: rgb(228, 97, 72);\"></td><td title=\"Index: [4, 2]&#10;Color: (248, 185, 136)\" style=\"width: 45px; height: 45px;background-color: rgb(248, 185, 136);\"></td><td title=\"Index: [5, 2]&#10;Color: (254, 232, 176)\" style=\"width: 45px; height: 45px;background-color: rgb(254, 232, 176);\"></td></tr><tr><td title=\"Index: [0, 1]&#10;Color: (212, 49, 46)\" style=\"width: 45px; height: 45px;background-color: rgb(212, 49, 46);\"></td><td title=\"Index: [1, 1]&#10;Color: (154, 174, 188)\" style=\"width: 45px; height: 45px;background-color: rgb(154, 174, 188);\"></td><td title=\"Index: [2, 1]&#10;Color: (254, 232, 176)\" style=\"width: 45px; height: 45px;background-color: rgb(254, 232, 176);\"></td><td title=\"Index: [3, 1]&#10;Color: (254, 232, 176)\" style=\"width: 45px; height: 45px;background-color: rgb(254, 232, 176);\"></td><td title=\"Index: [4, 1]&#10;Color: (254, 232, 176)\" style=\"width: 45px; height: 45px;background-color: rgb(254, 232, 176);\"></td><td title=\"Index: [5, 1]&#10;Color: (248, 185, 136)\" style=\"width: 45px; height: 45px;background-color: rgb(248, 185, 136);\"></td></tr><tr><td title=\"Index: [0, 0]&#10;Color: (154, 174, 188)\" style=\"width: 45px; height: 45px;background-color: rgb(154, 174, 188);\"></td><td title=\"Index: [1, 0]&#10;Color: (154, 174, 188)\" style=\"width: 45px; height: 45px;background-color: rgb(154, 174, 188);\"></td><td title=\"Index: [2, 0]&#10;Color: (154, 174, 188)\" style=\"width: 45px; height: 45px;background-color: rgb(154, 174, 188);\"></td><td title=\"Index: [3, 0]&#10;Color: (254, 232, 176)\" style=\"width: 45px; height: 45px;background-color: rgb(254, 232, 176);\"></td><td title=\"Index: [4, 0]&#10;Color: (240, 141, 102)\" style=\"width: 45px; height: 45px;background-color: rgb(240, 141, 102);\"></td><td title=\"Index: [5, 0]&#10;Color: (254, 232, 176)\" style=\"width: 45px; height: 45px;background-color: rgb(254, 232, 176);\"></td></tr></tbody></table>"
       ],
       "metadata": {},
       "output_type": "pyout",
       "prompt_number": 24,
       "text": [
        "<ipythonblocks.ipythonblocks.ImageGrid at 0x7fef429b1e90>"
       ]
      }
     ],
     "prompt_number": 24
    },
    {
     "cell_type": "code",
     "collapsed": false,
     "input": [
      "pylab.imshow(tarrant)"
     ],
     "language": "python",
     "metadata": {},
     "outputs": [
      {
       "metadata": {},
       "output_type": "pyout",
       "prompt_number": 25,
       "text": [
        "<matplotlib.image.AxesImage at 0x7fef4284d450>"
       ]
      },
      {
       "metadata": {},
       "output_type": "display_data",
       "png": "[encoded data removed]",
       "text": [
        "<matplotlib.figure.Figure at 0x7fef4297af50>"
       ]
      }
     ],
     "prompt_number": 25
    }
   ],
   "metadata": {}
  }
 ]
}