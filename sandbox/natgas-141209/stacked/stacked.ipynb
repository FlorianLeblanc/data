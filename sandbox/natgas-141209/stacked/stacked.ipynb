{
 "metadata": {
  "name": "",
  "signature": "sha256:50a50816d0e08e0c2e74711f29e633a14e402aea5737068ce60e3025211f1fa2"
 },
 "nbformat": 3,
 "nbformat_minor": 0,
 "worksheets": [
  {
   "cells": [
    {
     "cell_type": "code",
     "collapsed": false,
     "input": [
      "import numpy as np\n",
      "import pandas as pd\n",
      "from bokeh.objects import HoverTool\n",
      "from bokeh.plotting import *"
     ],
     "language": "python",
     "metadata": {},
     "outputs": [],
     "prompt_number": 1
    },
    {
     "cell_type": "code",
     "collapsed": false,
     "input": [
      "!head data.csv"
     ],
     "language": "python",
     "metadata": {},
     "outputs": [
      {
       "output_type": "stream",
       "stream": "stdout",
       "text": [
        ",Alaska,Coalbed methane,Lower 48 offshore,Tight gas,Shale Gas,L48 onshore NA conv,L48 onshore AD conv\r\n",
        "1990,0.38,0.3,5.33,1.81,0.17,6.92,2.89\r\n",
        "1991,0.41,0.39,5.08,1.9,0.19,7.21,2.52\r\n",
        "1992,0.41,0.36,4.95,2.09,0.19,7.41,2.44\r\n",
        "1993,0.4,0.63,5.09,2.39,0.2,7.41,1.98\r\n",
        "1994,0.52,0.67,5.39,2.51,0.21,7.65,1.87\r\n",
        "1995,0.43,0.88,5.33,2.62,0.22,7.19,1.93\r\n",
        "1996,0.44,1.09,5.53,2.74,0.16,7.11,1.78\r\n",
        "1997,0.43,1.18,5.51,2.86,0.26,6.77,1.91\r\n",
        "1998,0.43,1.31,5.45,3.03,0.26,6.68,1.86\r\n"
       ]
      }
     ],
     "prompt_number": 2
    },
    {
     "cell_type": "code",
     "collapsed": false,
     "input": [
      "ngas = pd.read_csv('data.csv', index_col=0)\n",
      "ngas = ngas.fillna(0)\n",
      "ngas.head()"
     ],
     "language": "python",
     "metadata": {},
     "outputs": [
      {
       "html": [
        "<div style=\"max-height:1000px;max-width:1500px;overflow:auto;\">\n",
        "<table border=\"1\" class=\"dataframe\">\n",
        "  <thead>\n",
        "    <tr style=\"text-align: right;\">\n",
        "      <th></th>\n",
        "      <th>Alaska</th>\n",
        "      <th>Coalbed methane</th>\n",
        "      <th>Lower 48 offshore</th>\n",
        "      <th>Tight gas</th>\n",
        "      <th>Shale Gas</th>\n",
        "      <th>L48 onshore NA conv</th>\n",
        "      <th>L48 onshore AD conv</th>\n",
        "    </tr>\n",
        "  </thead>\n",
        "  <tbody>\n",
        "    <tr>\n",
        "      <th>1990</th>\n",
        "      <td> 0.38</td>\n",
        "      <td> 0.30</td>\n",
        "      <td> 5.33</td>\n",
        "      <td> 1.81</td>\n",
        "      <td> 0.17</td>\n",
        "      <td> 6.92</td>\n",
        "      <td> 2.89</td>\n",
        "    </tr>\n",
        "    <tr>\n",
        "      <th>1991</th>\n",
        "      <td> 0.41</td>\n",
        "      <td> 0.39</td>\n",
        "      <td> 5.08</td>\n",
        "      <td> 1.90</td>\n",
        "      <td> 0.19</td>\n",
        "      <td> 7.21</td>\n",
        "      <td> 2.52</td>\n",
        "    </tr>\n",
        "    <tr>\n",
        "      <th>1992</th>\n",
        "      <td> 0.41</td>\n",
        "      <td> 0.36</td>\n",
        "      <td> 4.95</td>\n",
        "      <td> 2.09</td>\n",
        "      <td> 0.19</td>\n",
        "      <td> 7.41</td>\n",
        "      <td> 2.44</td>\n",
        "    </tr>\n",
        "    <tr>\n",
        "      <th>1993</th>\n",
        "      <td> 0.40</td>\n",
        "      <td> 0.63</td>\n",
        "      <td> 5.09</td>\n",
        "      <td> 2.39</td>\n",
        "      <td> 0.20</td>\n",
        "      <td> 7.41</td>\n",
        "      <td> 1.98</td>\n",
        "    </tr>\n",
        "    <tr>\n",
        "      <th>1994</th>\n",
        "      <td> 0.52</td>\n",
        "      <td> 0.67</td>\n",
        "      <td> 5.39</td>\n",
        "      <td> 2.51</td>\n",
        "      <td> 0.21</td>\n",
        "      <td> 7.65</td>\n",
        "      <td> 1.87</td>\n",
        "    </tr>\n",
        "  </tbody>\n",
        "</table>\n",
        "</div>"
       ],
       "metadata": {},
       "output_type": "pyout",
       "prompt_number": 3,
       "text": [
        "      Alaska  Coalbed methane  Lower 48 offshore  Tight gas  Shale Gas  \\\n",
        "1990    0.38             0.30               5.33       1.81       0.17   \n",
        "1991    0.41             0.39               5.08       1.90       0.19   \n",
        "1992    0.41             0.36               4.95       2.09       0.19   \n",
        "1993    0.40             0.63               5.09       2.39       0.20   \n",
        "1994    0.52             0.67               5.39       2.51       0.21   \n",
        "\n",
        "      L48 onshore NA conv  L48 onshore AD conv  \n",
        "1990                 6.92                 2.89  \n",
        "1991                 7.21                 2.52  \n",
        "1992                 7.41                 2.44  \n",
        "1993                 7.41                 1.98  \n",
        "1994                 7.65                 1.87  "
       ]
      }
     ],
     "prompt_number": 3
    },
    {
     "cell_type": "code",
     "collapsed": false,
     "input": [
      "#output_notebook()\n",
      "output_file(\"stacked.html\")"
     ],
     "language": "python",
     "metadata": {},
     "outputs": [
      {
       "output_type": "stream",
       "stream": "stdout",
       "text": [
        "Session output file 'stacked.html' already exists, will be overwritten.\n"
       ]
      }
     ],
     "prompt_number": 4
    },
    {
     "cell_type": "code",
     "collapsed": false,
     "input": [
      "from bokeh.objects import *\n",
      "\n",
      "# Define some categories\n",
      "x_points = list(ngas.index)\n",
      "stack_items = list(ngas.columns)\n",
      "\n",
      "# Setup a figure\n",
      "p = figure(\n",
      "    plot_width=600, \n",
      "    plot_height=375,\n",
      "    x_range=[1990,2040], \n",
      "    y_range=[0,50], \n",
      "    tools='',\n",
      "    toolbar_location=None\n",
      ")\n",
      "\n",
      "ys = []\n",
      "last = np.zeros(len(x_points))\n",
      "for index, item in enumerate(stack_items):\n",
      "    next = last + ngas[item]\n",
      "    ys.append(np.hstack((last[::-1], next)))\n",
      "    last = next\n",
      "\n",
      "# The x coordinates for each polygon are simply the series concatenated\n",
      "xs = [np.hstack((x_points[::-1], x_points))] * len(ys)\n",
      "\n",
      "# Pick out a color palette\n",
      "colors = brewer[\"Spectral\"][len(ys)][::-1]\n",
      "    \n",
      "# Make the stacked area\n",
      "p.patches(xs, ys,\n",
      "        xrange=x_points,\n",
      "        color=colors, line_color=None,\n",
      "        tools=\"save\")\n",
      "\n",
      "# Labels\n",
      "yaxis = p.yaxis[0]\n",
      "yaxis.axis_label = \"Billion cubic feet per day (Bcf/day)\"\n",
      "yaxis.axis_label_text_font_size = \"8pt\"\n",
      "yaxis.major_label_text_font_size = \"8pt\"\n",
      "\n",
      "yaxis.minor_tick_line_color = None\n",
      "\n",
      "title = p.title\n",
      "p.title = \"U.S. natural gas production: 1990-2040\"\n",
      "p.title_text_font_size = \"12pt\"\n",
      "\n",
      "xaxis = p.xaxis[0]\n",
      "xaxis.minor_tick_line_color = None\n",
      "xaxis.major_label_text_font_size = \"8pt\"\n",
      "\n",
      "# Legend\n",
      "legend_xs = np.full(len(ys),1993)\n",
      "legend_ys = np.linspace(46,26,len(ys))\n",
      "\n",
      "\n",
      "p.rect(x=[1999], y=[36], width=14, height=24, line_color=None, fill_color=\"white\", alpha=.8)\n",
      "p.circle(x=legend_xs, y=legend_ys, radius=.5, color=colors)\n",
      "p.text(x=legend_xs+1, y=legend_ys-1.6, text_font_size=\"8pt\", text=stack_items, angle=0)\n",
      "\n",
      "show(p)"
     ],
     "language": "python",
     "metadata": {},
     "outputs": [],
     "prompt_number": 7
    },
    {
     "cell_type": "code",
     "collapsed": false,
     "input": [],
     "language": "python",
     "metadata": {},
     "outputs": [],
     "prompt_number": 5
    }
   ],
   "metadata": {}
  }
 ]
}