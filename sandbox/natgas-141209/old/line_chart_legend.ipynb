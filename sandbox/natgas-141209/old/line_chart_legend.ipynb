{
 "metadata": {
  "name": "",
  "signature": "sha256:c2e1ea3a26c1b2945dbd6bff3a9ef896846fd740f3e145f034f775a0a1987b11"
 },
 "nbformat": 3,
 "nbformat_minor": 0,
 "worksheets": [
  {
   "cells": [
    {
     "cell_type": "code",
     "collapsed": false,
     "input": [
      "from bokeh.document import Document\n",
      "from bokeh.widgets import VBox, HBox, CheckboxGroup\n",
      "from bokeh.plotting import figure, output_file, output_notebook, output_server, show, brewer\n",
      "from bokeh.properties import Range\n",
      "import pandas as pd"
     ],
     "language": "python",
     "metadata": {},
     "outputs": [],
     "prompt_number": 1
    },
    {
     "cell_type": "code",
     "collapsed": false,
     "input": [
      "#output_notebook()\n",
      "output_file(\"line_legend.html\")\n",
      "#output_server(\"line_3\")"
     ],
     "language": "python",
     "metadata": {},
     "outputs": [
      {
       "output_type": "stream",
       "stream": "stdout",
       "text": [
        "Session output file 'line_legend.html' already exists, will be overwritten.\n"
       ]
      }
     ],
     "prompt_number": 2
    },
    {
     "cell_type": "code",
     "collapsed": false,
     "input": [
      "# Get data\n",
      "df = pd.read_csv('tcf_per_year.csv', header=[0,1], index_col=0)\n",
      "tight = df['Including Tight']\n",
      "no_tight = df['No Tight']"
     ],
     "language": "python",
     "metadata": {},
     "outputs": [],
     "prompt_number": 3
    },
    {
     "cell_type": "code",
     "collapsed": false,
     "input": [
      "# Set up plot\n",
      "p = figure()"
     ],
     "language": "python",
     "metadata": {},
     "outputs": [],
     "prompt_number": 4
    },
    {
     "cell_type": "code",
     "collapsed": false,
     "input": [
      "## Add lines\n",
      "\n",
      "# Set up the colors\n",
      "\n",
      "colors = brewer[\"Spectral\"][11]\n",
      "colors.append(\"#aaaaaa\")\n",
      "colors.append(\"#444444\")\n",
      "\n",
      "# Including tight\n",
      "for i in range(len(tight.columns)):\n",
      "    source = tight.columns[i]\n",
      "    p.line(tight.index, tight[source], legend=source, line_color=colors[i])\n",
      "    \n",
      "# Not including tight\n",
      "for i in range(len(no_tight.columns)):\n",
      "    source = no_tight.columns[i]\n",
      "    \n",
      "    if source == 'Exponential Fit':\n",
      "        p.line(no_tight.index, no_tight[source], legend=source, line_color='red', line_dash='solid', line_width=2)\n",
      "    elif source == 'AEO2000 (graph) + later history':\n",
      "        p.line(no_tight.index, no_tight[source], legend=source, line_color='black', line_dash='solid', line_width=2)\n",
      "    else:\n",
      "        p.line(no_tight.index, no_tight[source], legend=source, line_color=colors[i], line_dash='dashed')"
     ],
     "language": "python",
     "metadata": {},
     "outputs": [],
     "prompt_number": 5
    },
    {
     "cell_type": "code",
     "collapsed": false,
     "input": [
      "# Axis values\n",
      "\n",
      "# Labeling\n",
      "font_size = \"12px\"\n",
      "\n",
      "title = p.title\n",
      "p.title = \"L48 OnShore Nonassoc Conventional\"\n",
      "p.title_text_font_size = font_size\n",
      "\n",
      "yaxis = p.yaxis[0]\n",
      "yaxis.axis_label = \"tcf/year\"\n",
      "yaxis.axis_label_text_font_size = font_size\n",
      "legend = p.legend\n",
      "legend.label_text_font_size = font_size\n",
      "legend.orientation = \"top_left\"\n",
      "legend.name = \"Source\""
     ],
     "language": "python",
     "metadata": {},
     "outputs": [],
     "prompt_number": 6
    },
    {
     "cell_type": "markdown",
     "metadata": {},
     "source": [
      "To Do\n",
      "* Add \"including tight\", \"no tight\" legend\n",
      "* change order of legend?\n",
      "* remove bokeh and helpicon\n",
      "* legend highlighting"
     ]
    },
    {
     "cell_type": "code",
     "collapsed": false,
     "input": [
      "cb = CheckboxGroup(labels=[\"A ---\", \"B\"], active=[0,1])"
     ],
     "language": "python",
     "metadata": {},
     "outputs": [],
     "prompt_number": 7
    },
    {
     "cell_type": "code",
     "collapsed": false,
     "input": [
      "layout = VBox(p, cb)"
     ],
     "language": "python",
     "metadata": {},
     "outputs": [],
     "prompt_number": 8
    },
    {
     "cell_type": "code",
     "collapsed": false,
     "input": [
      "show(layout)"
     ],
     "language": "python",
     "metadata": {},
     "outputs": [],
     "prompt_number": 9
    },
    {
     "cell_type": "code",
     "collapsed": false,
     "input": [],
     "language": "python",
     "metadata": {},
     "outputs": [],
     "prompt_number": 9
    }
   ],
   "metadata": {}
  }
 ]
}