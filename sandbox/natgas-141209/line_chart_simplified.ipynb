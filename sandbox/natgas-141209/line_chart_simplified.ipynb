{
 "metadata": {
  "name": "",
  "signature": "sha256:0c5da8b19a501956745d56d41eccbe13cad4653453fdfd9e2bd0b6a81e47d429"
 },
 "nbformat": 3,
 "nbformat_minor": 0,
 "worksheets": [
  {
   "cells": [
    {
     "cell_type": "code",
     "collapsed": false,
     "input": [
      "from bokeh.document import Document\n",
      "from bokeh.plotting import figure, output_file, output_notebook, show, brewer, circle, rect, text\n",
      "from bokeh.widgets import HBox, VBox\n",
      "from bokeh.properties import Range\n",
      "import pandas as pd\n",
      "import numpy as np"
     ],
     "language": "python",
     "metadata": {},
     "outputs": [],
     "prompt_number": 1
    },
    {
     "cell_type": "code",
     "collapsed": false,
     "input": [
      "#output_notebook()\n",
      "output_file(\"plot_legend.html\")"
     ],
     "language": "python",
     "metadata": {},
     "outputs": [
      {
       "output_type": "stream",
       "stream": "stdout",
       "text": [
        "Session output file 'plot_legend.html' already exists, will be overwritten.\n"
       ]
      }
     ],
     "prompt_number": 2
    },
    {
     "cell_type": "code",
     "collapsed": false,
     "input": [
      "# Get data\n",
      "df = pd.read_csv('tcf_per_year_simplified.csv', header=[0,1], index_col=0)\n",
      "data = df['Data']\n",
      "overview = df['Overview']"
     ],
     "language": "python",
     "metadata": {},
     "outputs": [],
     "prompt_number": 3
    },
    {
     "cell_type": "code",
     "collapsed": false,
     "input": [
      "# Set up plot\n",
      "## Beacon accepts a max of 640px x 390px, so we need to keep below that. \n",
      "# 600 width, seems to work well to get full plot width in there.\n",
      "\n",
      "p = figure(y_range=[0, 14], toolbar_location=None, plot_width=480, plot_height=340, min_border=10)\n",
      "\n",
      "\n",
      "# Set up the colors\n",
      "colors = brewer[\"Spectral\"][11]\n",
      "colors.append(\"#222222\")\n",
      "colors.append(\"#666666\")\n",
      "colors.append(\"#aaaaaa\")\n",
      "colors.append(\"#cccccc\")\n",
      "\n",
      "\n",
      "## Add lines\n",
      "\n",
      "# Overview\n",
      "for i in range(len(overview.columns)):\n",
      "    source = overview.columns[i]\n",
      "    \n",
      "    if source == 'Exponential Fit':\n",
      "        p.line(overview.index, overview[source], line_color='#000000', legend=source, line_dash='dashed', line_width=2)\n",
      "    elif source == 'AEO2000 (graph) + later history':\n",
      "        p.line(overview.index, overview[source], line_color='#999999', legend=source, line_dash='dashed', line_width=2)\n",
      "    elif source == 'Actual historical best guess':\n",
      "        p.line(overview.index, overview[source], line_color='#333333', legend=source, line_dash='dashed', line_width=2)\n",
      "\n",
      "# Data\n",
      "for i in range(len(data.columns)):\n",
      "    source = data.columns[i]\n",
      "    p.line(data.index, data[source], line_color=colors[i], line_width=4)\n",
      "\n",
      "# Axis values\n",
      "\n",
      "# Labeling\n",
      "font_size = \"12px\"\n",
      "\n",
      "#p.title = \"L48 OnShore Nonassoc Conventional\"\n",
      "p.title = None\n",
      "p.title_text_font_size = font_size\n",
      "p.outline_line_color = None\n",
      "\n",
      "yaxis = p.yaxis[0]\n",
      "yaxis.axis_label = \"tcf/year\"\n",
      "yaxis.axis_label_text_font_size = font_size\n",
      "yaxis.minor_tick_line_color = None\n",
      "legend = p.legend\n",
      "legend.label_text_font_size = font_size\n",
      "legend.orientation = \"bottom_left\"\n",
      "legend.name = \"Source\"\n",
      "\n",
      "p.tools"
     ],
     "language": "python",
     "metadata": {},
     "outputs": [
      {
       "metadata": {},
       "output_type": "pyout",
       "prompt_number": 22,
       "text": [
        "[<bokeh.models.tools.PanTool at 0x7f6cf13c2b50>,\n",
        " <bokeh.models.tools.WheelZoomTool at 0x7f6cf13c2b90>,\n",
        " <bokeh.models.tools.BoxZoomTool at 0x7f6cf13c2bd0>,\n",
        " <bokeh.models.tools.PreviewSaveTool at 0x7f6cf13c2c10>,\n",
        " <bokeh.models.tools.ResizeTool at 0x7f6cf13c2c50>,\n",
        " <bokeh.models.tools.ResetTool at 0x7f6cf13c2c90>]"
       ]
      }
     ],
     "prompt_number": 22
    },
    {
     "cell_type": "code",
     "collapsed": false,
     "input": [
      "# Draw the legend - TIGHT\n",
      "l_tight = figure(toolbar_location=None, plot_width=90, plot_height=340, tools='', title=None, min_border=0, x_range=[0,8])\n",
      "\n",
      "l_tight_xs = np.full(len(data.columns),1)\n",
      "l_tight_ys = np.linspace(len(data.columns),0,len(data.columns))\n",
      "\n",
      "l_tight.xgrid[0].grid_line_color = None\n",
      "l_tight.ygrid[0].grid_line_color = None\n",
      "\n",
      "l_tight_xaxis = l_tight.xaxis[0]\n",
      "l_tight_yaxis = l_tight.yaxis[0]\n",
      "\n",
      "l_tight_xaxis.axis_line_color = None\n",
      "l_tight_xaxis.major_label_text_color = None\n",
      "l_tight_xaxis.major_tick_line_color = None\n",
      "l_tight_xaxis.minor_tick_line_color = None\n",
      "l_tight_yaxis.axis_line_color = None\n",
      "l_tight_yaxis.major_label_text_color = None\n",
      "l_tight_yaxis.major_tick_line_color = None\n",
      "l_tight_yaxis.minor_tick_line_color = None\n",
      "\n",
      "l_tight.outline_line_color = None\n",
      "\n",
      "\n",
      "l_tight.rect(x=l_tight_xs-.8, y=l_tight_ys, width=1, height=.1, color=colors)\n",
      "l_tight.text(x=l_tight_xs+.4, y=l_tight_ys-.35, text_font_size=\"8pt\", text=data.columns, angle=0)"
     ],
     "language": "python",
     "metadata": {},
     "outputs": [
      {
       "metadata": {},
       "output_type": "pyout",
       "prompt_number": 23,
       "text": [
        "<bokeh.plotting.Figure at 0x7f6cf13c21d0>"
       ]
      }
     ],
     "prompt_number": 23
    },
    {
     "cell_type": "code",
     "collapsed": false,
     "input": [
      "layout = HBox()\n",
      "layout.children = [l_tight, p]\n",
      "show(layout)"
     ],
     "language": "python",
     "metadata": {},
     "outputs": [],
     "prompt_number": 24
    }
   ],
   "metadata": {}
  }
 ]
}